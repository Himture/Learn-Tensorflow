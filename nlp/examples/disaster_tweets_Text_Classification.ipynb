{
 "cells": [
  {
   "cell_type": "markdown",
   "id": "07830b12",
   "metadata": {},
   "source": [
    "# Disaster Tweet Text Classification\n",
    "\n",
    "**Author:** [Tarun R Jain](https://twitter.com/TRJ_0751)<br>\n",
    "\n",
    "## Introduction\n",
    "\n",
    "Text can be an extremely rich source of information, but extracting insights from it can be hard and time-consuming, due to its unstructured nature.But, thanks to advances in natural language processing and machine learning, which both fall under the vast umbrella of artificial intelligence, sorting text data is getting easier.\n",
    "\n",
    "In this article we shall look through an example for Text Classification uing LSTM. "
   ]
  },
  {
   "cell_type": "markdown",
   "id": "3215c8d4",
   "metadata": {},
   "source": [
    "Download Dataset: [NLP Disaster Tweets](https://www.kaggle.com/competitions/nlp-getting-started)"
   ]
  },
  {
   "cell_type": "code",
   "execution_count": 44,
   "id": "203f1d3b",
   "metadata": {},
   "outputs": [],
   "source": [
    "import pandas as pd\n",
    "import numpy as np\n",
    "import matplotlib.pyplot as plt\n",
    "import re\n",
    "import nltk\n",
    "from nltk.tokenize import word_tokenize\n",
    "from nltk.stem import WordNetLemmatizer\n",
    "from nltk.corpus import stopwords\n",
    "from sklearn.model_selection import train_test_split\n",
    "from tensorflow.keras.preprocessing.text import Tokenizer\n",
    "from tensorflow.keras.preprocessing.sequence import pad_sequences\n",
    "from tensorflow import keras"
   ]
  },
  {
   "cell_type": "code",
   "execution_count": 50,
   "id": "d73c0302",
   "metadata": {},
   "outputs": [],
   "source": [
    "training_data = pd.read_csv(\"train.csv\")\n",
    "testing_data = pd.read_csv(\"test.csv\")"
   ]
  },
  {
   "cell_type": "code",
   "execution_count": 5,
   "id": "e21e02da",
   "metadata": {},
   "outputs": [
    {
     "data": {
      "text/html": [
       "<div>\n",
       "<style scoped>\n",
       "    .dataframe tbody tr th:only-of-type {\n",
       "        vertical-align: middle;\n",
       "    }\n",
       "\n",
       "    .dataframe tbody tr th {\n",
       "        vertical-align: top;\n",
       "    }\n",
       "\n",
       "    .dataframe thead th {\n",
       "        text-align: right;\n",
       "    }\n",
       "</style>\n",
       "<table border=\"1\" class=\"dataframe\">\n",
       "  <thead>\n",
       "    <tr style=\"text-align: right;\">\n",
       "      <th></th>\n",
       "      <th>id</th>\n",
       "      <th>keyword</th>\n",
       "      <th>location</th>\n",
       "      <th>text</th>\n",
       "      <th>target</th>\n",
       "    </tr>\n",
       "  </thead>\n",
       "  <tbody>\n",
       "    <tr>\n",
       "      <th>6996</th>\n",
       "      <td>10032</td>\n",
       "      <td>twister</td>\n",
       "      <td>Calgary, Alberta</td>\n",
       "      <td>Anyone wanna come over and watch Twister with ...</td>\n",
       "      <td>0</td>\n",
       "    </tr>\n",
       "    <tr>\n",
       "      <th>2402</th>\n",
       "      <td>3459</td>\n",
       "      <td>derailed</td>\n",
       "      <td>Washington, DC</td>\n",
       "      <td>Happy no one was hurt when #wmata train derail...</td>\n",
       "      <td>1</td>\n",
       "    </tr>\n",
       "  </tbody>\n",
       "</table>\n",
       "</div>"
      ],
      "text/plain": [
       "         id   keyword          location  \\\n",
       "6996  10032   twister  Calgary, Alberta   \n",
       "2402   3459  derailed    Washington, DC   \n",
       "\n",
       "                                                   text  target  \n",
       "6996  Anyone wanna come over and watch Twister with ...       0  \n",
       "2402  Happy no one was hurt when #wmata train derail...       1  "
      ]
     },
     "execution_count": 5,
     "metadata": {},
     "output_type": "execute_result"
    }
   ],
   "source": [
    "training_data.sample(2)"
   ]
  },
  {
   "cell_type": "code",
   "execution_count": 6,
   "id": "c74b9f12",
   "metadata": {},
   "outputs": [
    {
     "data": {
      "text/plain": [
       "0"
      ]
     },
     "execution_count": 6,
     "metadata": {},
     "output_type": "execute_result"
    }
   ],
   "source": [
    "training_data['text'].isnull().sum()"
   ]
  },
  {
   "cell_type": "markdown",
   "id": "6c39daf6",
   "metadata": {},
   "source": [
    "## Text Preprocessing Techniques"
   ]
  },
  {
   "cell_type": "markdown",
   "id": "57b4990e",
   "metadata": {},
   "source": [
    "### Convert the entire text into lower case"
   ]
  },
  {
   "cell_type": "code",
   "execution_count": 9,
   "id": "5c827a50",
   "metadata": {},
   "outputs": [],
   "source": [
    "training_data['new_text'] = training_data['text'].apply(lambda x:x.lower())"
   ]
  },
  {
   "cell_type": "code",
   "execution_count": 10,
   "id": "654a1ac8",
   "metadata": {},
   "outputs": [],
   "source": [
    "lemm=WordNetLemmatizer()"
   ]
  },
  {
   "cell_type": "markdown",
   "id": "24bb7c54",
   "metadata": {},
   "source": [
    "### Perform Lemmatization\n",
    "\n",
    "Lemmatization is the process wherein the context is used to convert a word to its meaningful base or root form. Now, let's try to simplify the above formal definition to get a better intuition of Lemmatization.\n",
    "\n",
    "For example:\n",
    "\n",
    "loving is lemmatized as love\n",
    "loved => love"
   ]
  },
  {
   "cell_type": "code",
   "execution_count": 11,
   "id": "05083626",
   "metadata": {},
   "outputs": [],
   "source": [
    "training_data['new_text'] = training_data['new_text'].apply(lambda x:lemm.lemmatize(x))"
   ]
  },
  {
   "cell_type": "markdown",
   "id": "becb79e5",
   "metadata": {},
   "source": [
    "### Remove StopWords\n",
    "\n",
    "Stop words are frequently used words that carry very little meaning. Stop words are words that are so common they are basically ignored by typical tokenizers. By default, NLTK (Natural Language Toolkit) includes a list of 40 stop words, including: \"a\", \"an\", \"the\", \"of\", \"in\", and so on.."
   ]
  },
  {
   "cell_type": "code",
   "execution_count": 12,
   "id": "329c4f21",
   "metadata": {},
   "outputs": [],
   "source": [
    "stop_words = stopwords.words(\"english\")"
   ]
  },
  {
   "cell_type": "code",
   "execution_count": 13,
   "id": "7421e5d4",
   "metadata": {},
   "outputs": [],
   "source": [
    "def remove_stopwords(text):\n",
    "    no_stop = []\n",
    "    for word in text.split(' '):\n",
    "        if word not in stop_words:\n",
    "            no_stop.append(word)\n",
    "    return \" \".join(no_stop)"
   ]
  },
  {
   "cell_type": "code",
   "execution_count": 17,
   "id": "1a74a4d7",
   "metadata": {},
   "outputs": [],
   "source": [
    "training_data['new_text'] = training_data['new_text'].apply(remove_stopwords)"
   ]
  },
  {
   "cell_type": "markdown",
   "id": "faaecd1e",
   "metadata": {},
   "source": [
    "### Remove unwanted text- Text Cleaning"
   ]
  },
  {
   "cell_type": "code",
   "execution_count": 17,
   "id": "a1b78c21",
   "metadata": {},
   "outputs": [],
   "source": [
    "def clean_text(text):\n",
    "    text = re.sub(r'^RT[\\s]+', '', text)\n",
    "    text = re.sub(r'https?://[^\\s\\n\\r]+', '', text)\n",
    "    text = re.sub(r'#', '', text)\n",
    "    return text"
   ]
  },
  {
   "cell_type": "code",
   "execution_count": 19,
   "id": "75c45f3d",
   "metadata": {},
   "outputs": [],
   "source": [
    "training_data['new_text'] = training_data['new_text'].apply(clean_text)"
   ]
  },
  {
   "cell_type": "markdown",
   "id": "bf1c6a6f",
   "metadata": {},
   "source": [
    "### Removes all punctuation from a string, if present"
   ]
  },
  {
   "cell_type": "code",
   "execution_count": 21,
   "id": "1f4d9576",
   "metadata": {},
   "outputs": [],
   "source": [
    "def remove_punctuation_func(text):\n",
    "    return re.sub(r'[^a-zA-Z0-9]', ' ', text)"
   ]
  },
  {
   "cell_type": "code",
   "execution_count": 22,
   "id": "7e0821e9",
   "metadata": {},
   "outputs": [],
   "source": [
    "training_data['new_text'] = training_data['new_text'].apply(remove_punctuation_func)"
   ]
  },
  {
   "cell_type": "code",
   "execution_count": 24,
   "id": "05190cbb",
   "metadata": {},
   "outputs": [
    {
     "data": {
      "text/html": [
       "<div>\n",
       "<style scoped>\n",
       "    .dataframe tbody tr th:only-of-type {\n",
       "        vertical-align: middle;\n",
       "    }\n",
       "\n",
       "    .dataframe tbody tr th {\n",
       "        vertical-align: top;\n",
       "    }\n",
       "\n",
       "    .dataframe thead th {\n",
       "        text-align: right;\n",
       "    }\n",
       "</style>\n",
       "<table border=\"1\" class=\"dataframe\">\n",
       "  <thead>\n",
       "    <tr style=\"text-align: right;\">\n",
       "      <th></th>\n",
       "      <th>id</th>\n",
       "      <th>keyword</th>\n",
       "      <th>location</th>\n",
       "      <th>text</th>\n",
       "      <th>target</th>\n",
       "      <th>new_text</th>\n",
       "    </tr>\n",
       "  </thead>\n",
       "  <tbody>\n",
       "    <tr>\n",
       "      <th>1897</th>\n",
       "      <td>2728</td>\n",
       "      <td>crushed</td>\n",
       "      <td>Conroe, TX</td>\n",
       "      <td>@CBSBigBrother ouch Clelli....you could almost...</td>\n",
       "      <td>0</td>\n",
       "      <td>cbsbigbrother ouch clelli    you could almost...</td>\n",
       "    </tr>\n",
       "    <tr>\n",
       "      <th>6056</th>\n",
       "      <td>8655</td>\n",
       "      <td>sinkhole</td>\n",
       "      <td>ill yorker</td>\n",
       "      <td>ÛÏ@FDNY: This morning #FDNY responded to a si...</td>\n",
       "      <td>1</td>\n",
       "      <td>fdny  this morning fdny responded to a sin...</td>\n",
       "    </tr>\n",
       "    <tr>\n",
       "      <th>3791</th>\n",
       "      <td>5383</td>\n",
       "      <td>fire%20truck</td>\n",
       "      <td>lost in my thoughts</td>\n",
       "      <td>@eeenice221 true because of the truck that cau...</td>\n",
       "      <td>1</td>\n",
       "      <td>eeenice221 true because of the truck that cau...</td>\n",
       "    </tr>\n",
       "    <tr>\n",
       "      <th>5836</th>\n",
       "      <td>8339</td>\n",
       "      <td>rubble</td>\n",
       "      <td>Dallas, Tejas</td>\n",
       "      <td>Photo: postapocalypticflimflam: Prodding aroun...</td>\n",
       "      <td>0</td>\n",
       "      <td>photo  postapocalypticflimflam  prodding aroun...</td>\n",
       "    </tr>\n",
       "    <tr>\n",
       "      <th>7356</th>\n",
       "      <td>10533</td>\n",
       "      <td>wildfire</td>\n",
       "      <td>USA</td>\n",
       "      <td>The Latest: #Wildfire destroys more homes but ...</td>\n",
       "      <td>1</td>\n",
       "      <td>the latest  wildfire destroys more homes but c...</td>\n",
       "    </tr>\n",
       "  </tbody>\n",
       "</table>\n",
       "</div>"
      ],
      "text/plain": [
       "         id       keyword             location  \\\n",
       "1897   2728       crushed           Conroe, TX   \n",
       "6056   8655      sinkhole           ill yorker   \n",
       "3791   5383  fire%20truck  lost in my thoughts   \n",
       "5836   8339        rubble        Dallas, Tejas   \n",
       "7356  10533      wildfire                  USA   \n",
       "\n",
       "                                                   text  target  \\\n",
       "1897  @CBSBigBrother ouch Clelli....you could almost...       0   \n",
       "6056  ÛÏ@FDNY: This morning #FDNY responded to a si...       1   \n",
       "3791  @eeenice221 true because of the truck that cau...       1   \n",
       "5836  Photo: postapocalypticflimflam: Prodding aroun...       0   \n",
       "7356  The Latest: #Wildfire destroys more homes but ...       1   \n",
       "\n",
       "                                               new_text  \n",
       "1897   cbsbigbrother ouch clelli    you could almost...  \n",
       "6056      fdny  this morning fdny responded to a sin...  \n",
       "3791   eeenice221 true because of the truck that cau...  \n",
       "5836  photo  postapocalypticflimflam  prodding aroun...  \n",
       "7356  the latest  wildfire destroys more homes but c...  "
      ]
     },
     "execution_count": 24,
     "metadata": {},
     "output_type": "execute_result"
    }
   ],
   "source": [
    "training_data.sample(5)"
   ]
  },
  {
   "cell_type": "markdown",
   "id": "e84ccdce",
   "metadata": {},
   "source": [
    "### Define Feature and Target to train a model"
   ]
  },
  {
   "cell_type": "code",
   "execution_count": 26,
   "id": "4c3d022e",
   "metadata": {},
   "outputs": [],
   "source": [
    "X = training_data['new_text']"
   ]
  },
  {
   "cell_type": "code",
   "execution_count": 27,
   "id": "42ff1962",
   "metadata": {},
   "outputs": [],
   "source": [
    "y = training_data['target']"
   ]
  },
  {
   "cell_type": "code",
   "execution_count": 28,
   "id": "dea3fdd0",
   "metadata": {},
   "outputs": [
    {
     "data": {
      "text/plain": [
       "array([0, 1])"
      ]
     },
     "execution_count": 28,
     "metadata": {},
     "output_type": "execute_result"
    }
   ],
   "source": [
    "np.unique(y)"
   ]
  },
  {
   "cell_type": "markdown",
   "id": "568d678c",
   "metadata": {},
   "source": [
    "## Text Preparation to train Deep Learning Model"
   ]
  },
  {
   "cell_type": "markdown",
   "id": "bbb86cbe",
   "metadata": {},
   "source": [
    "In the tutorial you must already be familiar that the text is the raw or unstructured data. To train a Neural Network, we need to convert the text into vector, thus we do Tokenization of the text data into the unique word index. "
   ]
  },
  {
   "cell_type": "code",
   "execution_count": 30,
   "id": "0e760b61",
   "metadata": {},
   "outputs": [],
   "source": [
    "token = Tokenizer(num_words=10000,oov_token=\"<OOV>\")"
   ]
  },
  {
   "cell_type": "markdown",
   "id": "18dc0d4d",
   "metadata": {},
   "source": [
    "**Note:** ``<OOV>`` stands for out of vocabulary"
   ]
  },
  {
   "cell_type": "code",
   "execution_count": 31,
   "id": "a29cf2e1",
   "metadata": {},
   "outputs": [],
   "source": [
    "token.fit_on_texts(X) #only once- that is on training"
   ]
  },
  {
   "cell_type": "code",
   "execution_count": 32,
   "id": "85ea7d45",
   "metadata": {},
   "outputs": [],
   "source": [
    "word_index = token.word_index"
   ]
  },
  {
   "cell_type": "code",
   "execution_count": 33,
   "id": "e0c43d2a",
   "metadata": {},
   "outputs": [],
   "source": [
    "training_seq = token.texts_to_sequences(X)"
   ]
  },
  {
   "cell_type": "code",
   "execution_count": 34,
   "id": "dc5bff04",
   "metadata": {},
   "outputs": [],
   "source": [
    "train_padded = pad_sequences(training_seq,padding=\"post\",truncating=\"post\",maxlen=50)"
   ]
  },
  {
   "cell_type": "markdown",
   "id": "67f7cec7",
   "metadata": {},
   "source": [
    "## Split the Data into Training and Validation"
   ]
  },
  {
   "cell_type": "code",
   "execution_count": 35,
   "id": "6204d547",
   "metadata": {},
   "outputs": [],
   "source": [
    "X_train,X_valid,y_train,y_valid = train_test_split(train_padded,y,test_size=0.2,train_size=0.8)"
   ]
  },
  {
   "cell_type": "markdown",
   "id": "98e4fffe",
   "metadata": {},
   "source": [
    "## Build a LSTM Network"
   ]
  },
  {
   "cell_type": "code",
   "execution_count": 39,
   "id": "67f070fd",
   "metadata": {},
   "outputs": [],
   "source": [
    "model = keras.models.Sequential()\n",
    "model.add(keras.layers.Embedding(10000,128))\n",
    "model.add(keras.layers.Bidirectional(keras.layers.LSTM(64,return_sequences=True)))\n",
    "model.add(keras.layers.Bidirectional(keras.layers.LSTM(64)))\n",
    "model.add(keras.layers.Dense(128,activation=\"relu\"))\n",
    "model.add(keras.layers.Dropout(0.4))\n",
    "model.add(keras.layers.Dense(1,activation=\"sigmoid\"))"
   ]
  },
  {
   "cell_type": "code",
   "execution_count": 40,
   "id": "a5d95ba4",
   "metadata": {},
   "outputs": [],
   "source": [
    "model.compile(\"rmsprop\", \"binary_crossentropy\", metrics=[\"accuracy\"])"
   ]
  },
  {
   "cell_type": "code",
   "execution_count": 42,
   "id": "934e50b5",
   "metadata": {},
   "outputs": [
    {
     "name": "stdout",
     "output_type": "stream",
     "text": [
      "Epoch 1/5\n",
      "191/191 [==============================] - 13s 67ms/step - loss: 0.4302 - accuracy: 0.8136 - val_loss: 0.4501 - val_accuracy: 0.7938\n",
      "Epoch 2/5\n",
      "191/191 [==============================] - 12s 63ms/step - loss: 0.3371 - accuracy: 0.8677 - val_loss: 0.4773 - val_accuracy: 0.7945\n",
      "Epoch 3/5\n",
      "191/191 [==============================] - 12s 62ms/step - loss: 0.2915 - accuracy: 0.8874 - val_loss: 0.4696 - val_accuracy: 0.7919\n",
      "Epoch 4/5\n",
      "191/191 [==============================] - 12s 64ms/step - loss: 0.2404 - accuracy: 0.9108 - val_loss: 0.4913 - val_accuracy: 0.7919\n",
      "Epoch 5/5\n",
      "191/191 [==============================] - 12s 64ms/step - loss: 0.2050 - accuracy: 0.9291 - val_loss: 0.5667 - val_accuracy: 0.7853\n"
     ]
    }
   ],
   "source": [
    "history = model.fit(X_train,y_train,epochs=5,validation_data=(X_valid,y_valid))"
   ]
  },
  {
   "cell_type": "markdown",
   "id": "255d693f",
   "metadata": {},
   "source": [
    "## Visualize Loss and Accuracy Tradeoff"
   ]
  },
  {
   "cell_type": "code",
   "execution_count": 47,
   "id": "cf95a223",
   "metadata": {},
   "outputs": [
    {
     "data": {
      "text/plain": [
       "<matplotlib.legend.Legend at 0x7f15665da530>"
      ]
     },
     "execution_count": 47,
     "metadata": {},
     "output_type": "execute_result"
    },
    {
     "data": {
      "image/png": "[encoded data removed]",
      "text/plain": [
       "<Figure size 864x288 with 2 Axes>"
      ]
     },
     "metadata": {
      "needs_background": "light"
     },
     "output_type": "display_data"
    }
   ],
   "source": [
    "fig , ax = plt.subplots(1,2)\n",
    "fig.set_size_inches(12,4)\n",
    "\n",
    "ax[0].plot(history.history['accuracy'])\n",
    "ax[0].plot(history.history['val_accuracy'])\n",
    "ax[0].set_title('Training Accuracy vs Validation Accuracy')\n",
    "ax[0].set_ylabel('Accuracy')\n",
    "ax[0].set_xlabel('Epoch')\n",
    "ax[0].legend(['Train', 'Validation'], loc='upper left')\n",
    "\n",
    "ax[1].plot(history.history['loss'])\n",
    "ax[1].plot(history.history['val_loss'])\n",
    "ax[1].set_title('Training Loss vs Validation Loss')\n",
    "ax[1].set_ylabel('Loss')\n",
    "ax[1].set_xlabel('Epoch')\n",
    "ax[1].legend(['Train', 'Validation'], loc='upper left')"
   ]
  },
  {
   "cell_type": "markdown",
   "id": "38ba3a10",
   "metadata": {},
   "source": [
    "## Predict on Testing Data"
   ]
  },
  {
   "cell_type": "code",
   "execution_count": 51,
   "id": "e2069dc4",
   "metadata": {},
   "outputs": [],
   "source": [
    "testing_seq = token.texts_to_sequences(testing_data['text'])"
   ]
  },
  {
   "cell_type": "code",
   "execution_count": 52,
   "id": "b5b6199e",
   "metadata": {},
   "outputs": [],
   "source": [
    "test_padded = pad_sequences(testing_seq,padding=\"post\",truncating=\"post\",maxlen=50)"
   ]
  },
  {
   "cell_type": "code",
   "execution_count": 53,
   "id": "1b3af4b0",
   "metadata": {},
   "outputs": [
    {
     "name": "stdout",
     "output_type": "stream",
     "text": [
      "102/102 [==============================] - 3s 16ms/step\n"
     ]
    }
   ],
   "source": [
    "pred = model.predict(test_padded)"
   ]
  },
  {
   "cell_type": "code",
   "execution_count": 54,
   "id": "b3a569c4",
   "metadata": {},
   "outputs": [
    {
     "data": {
      "text/plain": [
       "3263"
      ]
     },
     "execution_count": 54,
     "metadata": {},
     "output_type": "execute_result"
    }
   ],
   "source": [
    "len(pred)"
   ]
  },
  {
   "cell_type": "code",
   "execution_count": 65,
   "id": "a42bfb6c",
   "metadata": {},
   "outputs": [],
   "source": [
    "test_prediction = []\n",
    "for i in pred:\n",
    "    if i[0]>0.5:\n",
    "        test_prediction.append(1)\n",
    "    else:\n",
    "        test_prediction.append(0)"
   ]
  },
  {
   "cell_type": "code",
   "execution_count": 66,
   "id": "18ea5940",
   "metadata": {},
   "outputs": [],
   "source": [
    "testing_data['target'] = test_prediction"
   ]
  },
  {
   "cell_type": "code",
   "execution_count": 67,
   "id": "3f4f893f",
   "metadata": {},
   "outputs": [
    {
     "data": {
      "text/html": [
       "<div>\n",
       "<style scoped>\n",
       "    .dataframe tbody tr th:only-of-type {\n",
       "        vertical-align: middle;\n",
       "    }\n",
       "\n",
       "    .dataframe tbody tr th {\n",
       "        vertical-align: top;\n",
       "    }\n",
       "\n",
       "    .dataframe thead th {\n",
       "        text-align: right;\n",
       "    }\n",
       "</style>\n",
       "<table border=\"1\" class=\"dataframe\">\n",
       "  <thead>\n",
       "    <tr style=\"text-align: right;\">\n",
       "      <th></th>\n",
       "      <th>id</th>\n",
       "      <th>keyword</th>\n",
       "      <th>location</th>\n",
       "      <th>text</th>\n",
       "      <th>target</th>\n",
       "    </tr>\n",
       "  </thead>\n",
       "  <tbody>\n",
       "    <tr>\n",
       "      <th>2577</th>\n",
       "      <td>8594</td>\n",
       "      <td>seismic</td>\n",
       "      <td>Singapore</td>\n",
       "      <td>A subcontractor working for French seismic sur...</td>\n",
       "      <td>1</td>\n",
       "    </tr>\n",
       "    <tr>\n",
       "      <th>566</th>\n",
       "      <td>1849</td>\n",
       "      <td>burned</td>\n",
       "      <td>NaN</td>\n",
       "      <td>Corey White talking all dat shit but he got bu...</td>\n",
       "      <td>1</td>\n",
       "    </tr>\n",
       "    <tr>\n",
       "      <th>567</th>\n",
       "      <td>1850</td>\n",
       "      <td>burned</td>\n",
       "      <td>Indianapolis, IN</td>\n",
       "      <td>@BlackHatWriter Yeah I'm going to be at home b...</td>\n",
       "      <td>0</td>\n",
       "    </tr>\n",
       "    <tr>\n",
       "      <th>1199</th>\n",
       "      <td>3941</td>\n",
       "      <td>devastated</td>\n",
       "      <td>Ireland</td>\n",
       "      <td>@_Gags_ My Mommy will be devastated lol #NoMor...</td>\n",
       "      <td>0</td>\n",
       "    </tr>\n",
       "    <tr>\n",
       "      <th>2120</th>\n",
       "      <td>7099</td>\n",
       "      <td>military</td>\n",
       "      <td>NaN</td>\n",
       "      <td>Admiral Says Public Schools Nationwide Shortch...</td>\n",
       "      <td>0</td>\n",
       "    </tr>\n",
       "  </tbody>\n",
       "</table>\n",
       "</div>"
      ],
      "text/plain": [
       "        id     keyword          location  \\\n",
       "2577  8594     seismic         Singapore   \n",
       "566   1849      burned               NaN   \n",
       "567   1850      burned  Indianapolis, IN   \n",
       "1199  3941  devastated           Ireland   \n",
       "2120  7099    military               NaN   \n",
       "\n",
       "                                                   text  target  \n",
       "2577  A subcontractor working for French seismic sur...       1  \n",
       "566   Corey White talking all dat shit but he got bu...       1  \n",
       "567   @BlackHatWriter Yeah I'm going to be at home b...       0  \n",
       "1199  @_Gags_ My Mommy will be devastated lol #NoMor...       0  \n",
       "2120  Admiral Says Public Schools Nationwide Shortch...       0  "
      ]
     },
     "execution_count": 67,
     "metadata": {},
     "output_type": "execute_result"
    }
   ],
   "source": [
    "testing_data.sample(5)"
   ]
  }
 ],
 "metadata": {
  "kernelspec": {
   "display_name": "Python 3 (ipykernel)",
   "language": "python",
   "name": "python3"
  },
  "language_info": {
   "codemirror_mode": {
    "name": "ipython",
    "version": 3
   },
   "file_extension": ".py",
   "mimetype": "text/x-python",
   "name": "python",
   "nbconvert_exporter": "python",
   "pygments_lexer": "ipython3",
   "version": "3.10.6"
  }
 },
 "nbformat": 4,
 "nbformat_minor": 5
}
